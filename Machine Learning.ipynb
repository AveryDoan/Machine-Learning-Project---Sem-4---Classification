{
 "cells": [
  {
   "cell_type": "code",
   "execution_count": 1,
   "id": "a05ac36a",
   "metadata": {},
   "outputs": [
    {
     "name": "stdout",
     "output_type": "stream",
     "text": [
      "Hello World Avery\n"
     ]
    }
   ],
   "source": [
    "print(\"Hello World Avery\")\n"
   ]
  },
  {
   "cell_type": "code",
   "execution_count": 1,
   "id": "85421e55",
   "metadata": {},
   "outputs": [
    {
     "name": "stdout",
     "output_type": "stream",
     "text": [
      "Hello 2\n"
     ]
    }
   ],
   "source": [
    "print(\"Hello 2\")"
   ]
  },
  {
   "cell_type": "code",
   "execution_count": 1,
   "id": "9ae6e594",
   "metadata": {},
   "outputs": [
    {
     "name": "stdout",
     "output_type": "stream",
     "text": [
      "Hello Avery from Jane\n"
     ]
    }
   ],
   "source": [
    "print(\"Hello Avery from Jane\")"
   ]
  }
 ],
 "metadata": {
  "kernelspec": {
   "display_name": "Python 3 (ipykernel)",
   "language": "python",
   "name": "python3"
  },
  "language_info": {
   "codemirror_mode": {
    "name": "ipython",
    "version": 3
   },
   "file_extension": ".py",
   "mimetype": "text/x-python",
   "name": "python",
   "nbconvert_exporter": "python",
   "pygments_lexer": "ipython3",
   "version": "3.10.13"
  }
 },
 "nbformat": 4,
 "nbformat_minor": 5
}
