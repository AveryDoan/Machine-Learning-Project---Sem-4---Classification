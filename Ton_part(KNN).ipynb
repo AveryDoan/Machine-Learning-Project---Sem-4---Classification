{
 "cells": [
  {
   "cell_type": "markdown",
   "id": "4f61d853",
   "metadata": {},
   "source": [
    "KNN plain model"
   ]
  },
  {
   "cell_type": "code",
   "execution_count": null,
   "id": "c71d162c",
   "metadata": {},
   "outputs": [],
   "source": [
    "# Import KNN algoritham in envirnoment\n",
    "from sklearn.neighbors import KNeighborsClassifier\n",
    "# Fitting XGBoost model to training set\n",
    "classifier_knn = KNeighborsClassifier(n_neighbors=5)\n",
    "knn=classification_model(X_train, X_test, y_train, y_test, classifier_knn)"
   ]
  },
  {
   "cell_type": "code",
   "execution_count": null,
   "id": "3db29411",
   "metadata": {},
   "outputs": [],
   "source": [
    "# Plot ROC curve for KNN classifier\n",
    "y_pred=knn['y_test_pred']\n",
    "plot_roc_curve(y_test, y_pred)"
   ]
  },
  {
   "cell_type": "markdown",
   "id": "6117f6b2",
   "metadata": {},
   "source": [
    "KNN Cross Validation and Hyperparameter tuning"
   ]
  },
  {
   "cell_type": "code",
   "execution_count": null,
   "id": "08aa81f1",
   "metadata": {},
   "outputs": [],
   "source": [
    "## Import KNN algoritham in envirnoment\n",
    "from sklearn.neighbors import KNeighborsClassifier\n",
    "\n",
    "## Fitting KNN model to training set using cross validation\n",
    "\n",
    "# Defining param_dict\n",
    "param_grid = {\"n_neighbors\": [3,5,7,9,12,15], \"metric\": [\"euclidean\", \"cityblock\"]}\n",
    "# Creating instance of KNN classifier\n",
    "knn_clf = KNeighborsClassifier()\n",
    "# Fitting model\n",
    "knn_cv=classification_CV_model(X_train, X_test, y_train, y_test, knn_clf, param_grid)"
   ]
  },
  {
   "cell_type": "code",
   "execution_count": null,
   "id": "cb6bcac4",
   "metadata": {},
   "outputs": [],
   "source": [
    "# Plot ROC curve for KNN classifier\n",
    "y_pred=knn_cv['y_test_pred']\n",
    "plot_roc_curve(y_test, y_pred)"
   ]
  },
  {
   "cell_type": "markdown",
   "id": "dd78f839",
   "metadata": {},
   "source": [
    "Observation <br>\n",
    "-We found slightly improvement in the model after training model using cross-validation. <br>\n",
    "-We got improved recall from _ to _ "
   ]
  },
  {
   "cell_type": "code",
   "execution_count": null,
   "id": "f1d22998",
   "metadata": {},
   "outputs": [],
   "source": []
  }
 ],
 "metadata": {
  "kernelspec": {
   "display_name": "Python 3 (ipykernel)",
   "language": "python",
   "name": "python3"
  },
  "language_info": {
   "codemirror_mode": {
    "name": "ipython",
    "version": 3
   },
   "file_extension": ".py",
   "mimetype": "text/x-python",
   "name": "python",
   "nbconvert_exporter": "python",
   "pygments_lexer": "ipython3",
   "version": "3.9.12"
  }
 },
 "nbformat": 4,
 "nbformat_minor": 5
}
