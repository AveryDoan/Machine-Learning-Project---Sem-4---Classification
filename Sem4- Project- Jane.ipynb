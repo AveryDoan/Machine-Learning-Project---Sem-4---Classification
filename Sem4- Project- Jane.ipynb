{
 "cells": [
  {
   "cell_type": "markdown",
   "id": "179d2da8",
   "metadata": {},
   "source": [
    "### **[3] Random Forest**"
   ]
  },
  {
   "cell_type": "code",
   "execution_count": null,
   "id": "32961590",
   "metadata": {},
   "outputs": [],
   "source": [
    "# Import Random Forest algoritham in envirnoment\n",
    "from sklearn.ensemble import RandomForestClassifier\n",
    "\n",
    "# Fitting Random Forest model to training set\n",
    "classifier_rf = RandomForestClassifier(criterion='entropy', max_leaf_nodes=10, random_state=0)\n",
    "rf=classification_model(X_train, X_test, y_train, y_test, classifier_rf)"
   ]
  },
  {
   "cell_type": "code",
   "execution_count": null,
   "id": "73fa5ff3",
   "metadata": {},
   "outputs": [],
   "source": [
    "# Plot ROC curve for Random Forest classifier\n",
    "y_pred=rf['y_test_pred']\n",
    "plot_roc_curve(y_test, y_pred)"
   ]
  },
  {
   "cell_type": "markdown",
   "id": "1ec5d25e",
   "metadata": {},
   "source": [
    "#### **<u>Cross- Validation & Hyperparameter Tuning</u>**"
   ]
  },
  {
   "cell_type": "code",
   "execution_count": null,
   "id": "29056576",
   "metadata": {},
   "outputs": [],
   "source": [
    "# Import Random Forest algoritham in envirnoment\n",
    "from sklearn.ensemble import RandomForestClassifier\n",
    "\n",
    "## Fitting Random Forest model to training set using cross validation\n",
    "\n",
    "# Defining param_dict\n",
    "param_grid = {'n_estimators':[50, 80, 100],\n",
    "              'max_depth':[4, 6, 8],\n",
    "              'min_samples_split':[30, 50, 70],\n",
    "              'min_samples_leaf': [20, 30, 40], 'max_leaf_nodes': [ 35, 40, 45]} \n",
    "# Creating instance of Random Forest classifier\n",
    "classifier_rf = RandomForestClassifier(criterion='entropy', random_state=0) \n",
    "# Fitting model\n",
    "rf_cv=classification_CV_model(X_train, X_test, y_train, y_test, classifier_rf, param_grid)"
   ]
  },
  {
   "cell_type": "code",
   "execution_count": null,
   "id": "3d5c679f",
   "metadata": {},
   "outputs": [],
   "source": [
    "# Plot ROC curve for Random Forest classifier\n",
    "y_pred=rf_cv['y_test_pred']\n",
    "plot_roc_curve(y_test, y_pred)"
   ]
  },
  {
   "cell_type": "markdown",
   "id": "77bd2660",
   "metadata": {},
   "source": [
    "#### **<u>Comparing Evaluation Metrics of Train/Test Split and Cross-Validation</u>**"
   ]
  },
  {
   "cell_type": "code",
   "execution_count": null,
   "id": "f329cceb",
   "metadata": {},
   "outputs": [],
   "source": [
    "# Comparing evaluation metrics of train_test_split and GridSearchCV of Random Forest model\n",
    "\n",
    "import pandas as pd\n",
    "import matplotlib.pyplot as plt\n",
    "\n",
    "# Data \n",
    "metrics = ['Accuracy', 'Precision', 'Recall', 'F1-score','roc_auc_score']\n",
    "train_test_split = [rf['accuracy_test'],rf['precision_test'],rf['recall_test'],rf['f1_test'],rf['roc_auc_score_test']]\n",
    "cross_validation = [rf_cv['accuracy_test'],rf_cv['precision_test'],rf_cv['recall_test'],rf_cv['f1_test'],rf_cv['roc_auc_score_test']]\n",
    "\n",
    "# Create a dataframe\n",
    "rf_evaluation_df = pd.DataFrame({'Evaluation Metrics': metrics,\n",
    "                   'Train/Test Split': train_test_split,\n",
    "                   'Cross-Validation': cross_validation})\n",
    "# Print dataframe\n",
    "print('=='*45)\n",
    "print(tabulate(rf_evaluation_df, headers='keys', tablefmt='grid'))\n",
    "print('\\n', '=='*45, '\\n')\n",
    "\n",
    "# Create a barplot\n",
    "plt.figure(figsize=(7,7))\n",
    "ax=rf_evaluation_df.plot.bar(x='Evaluation Metrics', rot=0)\n",
    "\n",
    "# Set the title and labels\n",
    "ax.set_title(\"Comparing Evaluation Metrics of Train-Test Split vs. Cross-Validation for Random Forest\")\n",
    "ax.set_xlabel(\"Evaluation Metrics\")\n",
    "ax.set_ylabel(\"Accuracy Score\")\n",
    "ax.legend(loc=\"lower right\")\n",
    "\n",
    "# Show the plot\n",
    "plt.show()\n",
    "print('=='*45)"
   ]
  },
  {
   "cell_type": "markdown",
   "id": "caab91fe",
   "metadata": {},
   "source": [
    "**<u>Observations</u> :**\n",
    "- We saw slightly improvement in the model after training with cross-validation.\n",
    "- Major improvement seen in Recall.\n",
    "- We got 0.84% of Recall using train_test_split and 0.90% of Recall using cross-validation in Random Forest model."
   ]
  },
  {
   "cell_type": "markdown",
   "id": "3645fa50",
   "metadata": {},
   "source": [
    "### **[5] XGBoost**"
   ]
  },
  {
   "cell_type": "code",
   "execution_count": null,
   "id": "9a82b55f",
   "metadata": {},
   "outputs": [],
   "source": [
    "# Import XGBoost algoritham in envirnoment\n",
    "from xgboost import XGBClassifier\n",
    "\n",
    "# Fitting XGBoost model to training set\n",
    "classifier_xgb = XGBClassifier(max_leaf_nodes=10, random_state=0)\n",
    "xgb=classification_model(X_train, X_test, y_train, y_test, classifier_gbm)"
   ]
  },
  {
   "cell_type": "code",
   "execution_count": null,
   "id": "ddbca8da",
   "metadata": {},
   "outputs": [],
   "source": [
    "# Plot ROC curve for XGBoost classifier\n",
    "y_pred=xgb['y_test_pred']\n",
    "plot_roc_curve(y_test, y_pred)"
   ]
  },
  {
   "cell_type": "markdown",
   "id": "ab734472",
   "metadata": {},
   "source": [
    "#### **<u>Cross- Validation & Hyperparameter Tuning</u>**"
   ]
  },
  {
   "cell_type": "code",
   "execution_count": null,
   "id": "c2130314",
   "metadata": {},
   "outputs": [],
   "source": [
    "# Import XGBoost algoritham in envirnoment\n",
    "from xgboost import XGBClassifier\n",
    "\n",
    "## Fitting XGBoost model to training set using cross validation\n",
    "\n",
    "# Defining param_dict\n",
    "param_grid = {'n_estimators':[50,80,100],\n",
    "              'max_depth':[4,6,8],\n",
    "              'min_samples_split':[50,100,150],\n",
    "              'min_samples_leaf':[40,50], 'eta':[0.3],\n",
    "             'gamma': [0],\n",
    "             'lambda': [0, 1, 2]}\n",
    "# Creating instance of XGBoost classifier\n",
    "classifier_xgb = XGBClassifier(max_leaf_nodes=10, random_state=0)\n",
    "# Fitting model\n",
    "xgb_cv=classification_CV_model(X_train, X_test, y_train, y_test, classifier_xgb, param_grid)"
   ]
  },
  {
   "cell_type": "code",
   "execution_count": null,
   "id": "ce0206f3",
   "metadata": {},
   "outputs": [],
   "source": [
    "# Plot ROC curve for XGBoost classifier\n",
    "y_pred=xgb_cv['y_test_pred']\n",
    "plot_roc_curve(y_test, y_pred)"
   ]
  },
  {
   "cell_type": "markdown",
   "id": "dc5e457f",
   "metadata": {},
   "source": [
    "#### **<u>Comparing Evaluation Metrics of Train/Test Split and Cross-Validation</u>**"
   ]
  },
  {
   "cell_type": "code",
   "execution_count": null,
   "id": "d23cdf91",
   "metadata": {},
   "outputs": [],
   "source": [
    "# Comparing evaluation metrics of train_test_split and GridSearchCV of XGBoost model\n",
    "\n",
    "import pandas as pd\n",
    "import matplotlib.pyplot as plt\n",
    "\n",
    "# Data \n",
    "metrics = ['Accuracy', 'Precision', 'Recall', 'F1-score','roc_auc_score']\n",
    "train_test_split = [xgb['accuracy_test'],xgb['precision_test'],xgb['recall_test'],xgb['f1_test'],xgb['roc_auc_score_test']]\n",
    "cross_validation = [xgb_cv['accuracy_test'],xgb_cv['precision_test'],xgb_cv['recall_test'],xgb_cv['f1_test'],xgb_cv['roc_auc_score_test']]\n",
    "\n",
    "# Create a dataframe\n",
    "xgb_evaluation_df = pd.DataFrame({'Evaluation Metrics': metrics,\n",
    "                   'Train/Test Split': train_test_split,\n",
    "                   'Cross-Validation': cross_validation})\n",
    "# Print dataframe\n",
    "print('=='*45)\n",
    "print(tabulate(xgb_evaluation_df, headers='keys', tablefmt='grid'))\n",
    "print('\\n', '=='*45, '\\n')\n",
    "\n",
    "# Create a barplot\n",
    "plt.figure(figsize=(7,7))\n",
    "ax=xgb_evaluation_df.plot.bar(x='Evaluation Metrics', rot=0)\n",
    "\n",
    "# Set the title and labels\n",
    "ax.set_title(\"Comparing Evaluation Metrics of Train-Test Split vs. Cross-Validation for XGBoost\")\n",
    "ax.set_xlabel(\"Evaluation Metrics\")\n",
    "ax.set_ylabel(\"Accuracy Score\")\n",
    "ax.legend(loc=\"lower right\")\n",
    "\n",
    "# Show the plot\n",
    "plt.show()\n",
    "print('=='*45)"
   ]
  },
  {
   "cell_type": "markdown",
   "id": "eaf7f165",
   "metadata": {},
   "source": [
    "**<u>Observations</u> :**\n",
    "- We found improvement in the model after training model using cross-validation.\n",
    "- More Accuracy seen in model trained using cross-validation.\n",
    "- We got 0.92 % of Recall using train_test_split and 0.93 % of Recall using cross validation in XGBoost model.\n",
    "- Major improvement found in Precision which is 0.91 from 0.93"
   ]
  }
 ],
 "metadata": {
  "kernelspec": {
   "display_name": "Python 3 (ipykernel)",
   "language": "python",
   "name": "python3"
  },
  "language_info": {
   "codemirror_mode": {
    "name": "ipython",
    "version": 3
   },
   "file_extension": ".py",
   "mimetype": "text/x-python",
   "name": "python",
   "nbconvert_exporter": "python",
   "pygments_lexer": "ipython3",
   "version": "3.9.13"
  }
 },
 "nbformat": 4,
 "nbformat_minor": 5
}
